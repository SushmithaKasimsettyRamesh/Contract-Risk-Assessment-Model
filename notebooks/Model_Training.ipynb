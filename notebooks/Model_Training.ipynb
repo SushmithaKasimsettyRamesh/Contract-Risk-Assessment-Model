{
  "cells": [
    {
      "cell_type": "code",
      "source": [
        "#Importing necessary libraries\n",
        "import pyodbc\n",
        "import pandas as pd\n",
        "import numpy as np\n",
        "import re\n",
        "import matplotlib.pyplot as plt\n",
        "from sklearn.model_selection import train_test_split\n",
        "from sklearn.preprocessing import LabelEncoder\n",
        "from sklearn.ensemble import HistGradientBoostingRegressor\n",
        "from sklearn.model_selection import GridSearchCV\n",
        "from sklearn.inspection import permutation_importance\n",
        "from sklearn.metrics import mean_absolute_error, mean_squared_error, r2_score\n",
        "\n",
        "pd.set_option('display.max_rows', None)\n",
        "pd.set_option('display.max_columns', None)\n",
        "print(pyodbc.drivers())"
      ],
      "outputs": [
        {
          "output_type": "error",
          "ename": "FileNotFoundError",
          "evalue": "[Errno 2] No such file or directory: 'null/Users/dinakardsm'",
          "traceback": [
            "\u001b[0;31m---------------------------------------------------------------------------\u001b[0m",
            "\u001b[0;31mFileNotFoundError\u001b[0m                         Traceback (most recent call last)",
            "Cell \u001b[0;32mIn[18], line 2\u001b[0m\n\u001b[1;32m      1\u001b[0m \u001b[38;5;28;01mimport\u001b[39;00m \u001b[38;5;21;01mos\u001b[39;00m\n\u001b[0;32m----> 2\u001b[0m \u001b[43mos\u001b[49m\u001b[38;5;241;43m.\u001b[39;49m\u001b[43mchdir\u001b[49m\u001b[43m(\u001b[49m\u001b[38;5;124;43m\"\u001b[39;49m\u001b[38;5;124;43mnull/Users/dinakardsm\u001b[39;49m\u001b[38;5;124;43m\"\u001b[39;49m\u001b[43m)\u001b[49m\n",
            "\u001b[0;31mFileNotFoundError\u001b[0m: [Errno 2] No such file or directory: 'null/Users/dinakardsm'"
          ]
        }
      ],
      "execution_count": 18,
      "metadata": {
        "gather": {
          "logged": 1745811446069
        }
      }
    },
    {
      "cell_type": "code",
      "source": [
        "#Establish connection with Database\n",
        "connection_string = \"\"\"Driver={ODBC Driver 18 for SQL Server};\n",
        "                       Server=tcp:techentmar.database.windows.net,1433;\n",
        "                       Database=QAECECRM_Mar2025;\n",
        "                       Uid=dbadmin;\n",
        "                       Pwd=DashTech1234;\n",
        "                       Encrypt=yes;\n",
        "                       TrustServerCertificate=no;\n",
        "                       Connection Timeout=30;\"\"\"\n",
        "\n",
        "connection = pyodbc.connect(connection_string)"
      ],
      "outputs": [],
      "execution_count": 4,
      "metadata": {
        "gather": {
          "logged": 1745810430084
        }
      }
    },
    {
      "cell_type": "code",
      "source": [
        "#Cleaning Functions\n",
        "\n",
        "def extract_amount(x):\n",
        "    # Updated regex to include optional minus sign and commas\n",
        "    match = re.search(r'\\(\\$ (-?[\\d,]+\\.\\d+)\\)', str(x))\n",
        "    if match:\n",
        "        return float(match.group(1).replace(',', ''))\n",
        "    else:\n",
        "        return np.nan"
      ],
      "outputs": [],
      "execution_count": 5,
      "metadata": {
        "gather": {
          "logged": 1745810432578
        }
      }
    },
    {
      "cell_type": "code",
      "source": [
        "#Querying all important tables\n",
        "\n",
        "#Querying the Contracts Data using the Stored Procedure #Run-Time: 6 min 8 sec\n",
        "query_contract = \"EXEC Sp_Get_Contract_Export\"\n",
        "Contract_df = pd.read_sql(query_contract, connection)\n",
        "\n",
        "BlueCard_df = pd.read_csv('BlueCard_Procedure_Export.csv', low_memory = False)\n",
        "Presenter_df = pd.read_csv('Presenter_data_query.csv', low_memory = False)\n",
        "Venue_df = pd.read_csv('Venue_Procedure_Export.csv', low_memory = False)\n",
        "Lead_df = pd.read_csv('Lead_Procedure_Export.csv', low_memory = False)"
      ],
      "outputs": [],
      "execution_count": 6,
      "metadata": {
        "gather": {
          "logged": 1745810825382
        }
      }
    },
    {
      "cell_type": "code",
      "source": [
        "#Removing Missing Data\n",
        "#Contracts Data\n",
        "Contract_df.dropna(inplace = True)\n",
        "\n",
        "#BlueCard Data\n",
        "BlueCard_df.dropna(subset = ['FIRST EVENT DATE'],inplace = True)\n",
        "\n",
        "#Presenter Data\n",
        "Presenter_df.dropna(subset = ['PHYSICAL CITY/STATE'], inplace = True)\n",
        "\n",
        "#Lead Data\n",
        "Lead_df.dropna(subset = ['AGENT', 'HOME OFFICE', 'EVENT DATE', 'CLOSED DATE', 'REFERRAL SOURCE'], inplace = True)\n",
        "\n",
        "# ---------------------------------------------------------------------------------------------------------------------------------\n",
        "\n",
        "#Data Cleaning\n",
        "#Contracts Data\n",
        "Contract_df['ARTIST NET_CLEANED'] = Contract_df['ARTIST NET'].apply(extract_amount)\n",
        "\n",
        "#Presenter Data\n",
        "Presenter_df['PHYSICAL CITY/STATE'].str.strip()\n",
        "Presenter_df['PHYSICAL CITY/STATE'].replace(' --', np.nan, inplace = True)\n",
        "\n",
        "# -----------------------------------------------------------------------------------------------------------------------------------\n",
        "\n",
        "#Feature Engineering\n",
        "#Contracts Data\n",
        "Contract_df['EVENT DATE YEAR'] = pd.to_datetime(Contract_df['FIRST EVENT DATE'], errors = 'coerce').dt.year\n",
        "\n",
        "#BlueCard Data\n",
        "BlueCard_df['CREATED DATE'] = pd.to_datetime(BlueCard_df['CREATED DATE'], errors = 'coerce')\n",
        "BlueCard_df.sort_values('CREATED DATE', inplace = True)\n",
        "BlueCard_df['Blue Card Rolling Count'] = BlueCard_df.reset_index().index + 1 #Getting rolling Count of Blue Cards through Time\n",
        "BlueCard_df['CREATED YEAR'] = BlueCard_df['CREATED DATE'].dt.year\n",
        "\n",
        "#Lead Data\n",
        "Lead_df['EVENT DATE'] = pd.to_datetime(Lead_df['EVENT DATE'], errors = 'coerce')"
      ],
      "outputs": [],
      "execution_count": 7,
      "metadata": {
        "gather": {
          "logged": 1745810831464
        }
      }
    },
    {
      "cell_type": "code",
      "source": [
        "# Step 1: Preprocessing - Normalize keys in both datasets\n",
        "def normalize_str(s):\n",
        "    if isinstance(s, str):\n",
        "        return s.strip().lower()\n",
        "    return s\n",
        "\n",
        "#Cleaning string data\n",
        "Contract_df[\"PRESENTER_CLEAN\"] = Contract_df[\"PRESENTER\"].apply(normalize_str)\n",
        "Contract_df[\"VENUE_CLEAN\"] = Contract_df[\"VENUE NAME\"].apply(normalize_str)\n",
        "Contract_df[\"AGENT_CLEAN\"] = Contract_df[\"AGENT\"].apply(normalize_str)\n",
        "\n",
        "BlueCard_df[\"PRESENTER_CLEAN\"] = BlueCard_df[\"PRESENTER\"].apply(normalize_str)\n",
        "BlueCard_df[\"VENUE_CLEAN\"] = BlueCard_df[\"VENUE NAME\"].apply(normalize_str)\n",
        "BlueCard_df[\"AGENT_CLEAN\"] = BlueCard_df[\"AGENT\"].apply(normalize_str)\n",
        "\n",
        "#Cleaning datetime data\n",
        "Contract_df[\"EVENT_DATE_CLEAN\"] = pd.to_datetime(Contract_df[\"FIRST EVENT DATE\"], errors=\"coerce\")\n",
        "BlueCard_df[\"EVENT_DATE_CLEAN\"] = pd.to_datetime(BlueCard_df[\"FIRST EVENT DATE\"], errors=\"coerce\")\n",
        "BlueCard_df[\"CREATED DATE\"] = pd.to_datetime(BlueCard_df['CREATED DATE'], errors = 'coerce')\n",
        "\n",
        "# Step 2: Generate merge keys\n",
        "Contract_df[\"MATCH_KEY\"] = (\n",
        "    Contract_df[\"PRESENTER_CLEAN\"] + \"_\" +\n",
        "    Contract_df[\"VENUE_CLEAN\"].fillna(\"na\") + \"_\" +\n",
        "    Contract_df[\"EVENT_DATE_CLEAN\"].dt.strftime('%Y-%m-%d')\n",
        ")\n",
        "\n",
        "BlueCard_df[\"MATCH_KEY\"] = (\n",
        "    BlueCard_df[\"PRESENTER_CLEAN\"] + \"_\" +\n",
        "    BlueCard_df[\"VENUE_CLEAN\"].fillna(\"na\") + \"_\" +\n",
        "    BlueCard_df[\"EVENT_DATE_CLEAN\"].dt.strftime('%Y-%m-%d')\n",
        ")\n",
        "\n",
        "# Step 3: Drop duplicates in bluecards to retain earliest CREATED DATE per match key\n",
        "bluecards_deduped = (\n",
        "    BlueCard_df.sort_values(\"CREATED DATE\")\n",
        "    .drop_duplicates(\"MATCH_KEY\")\n",
        "    .set_index(\"MATCH_KEY\")\n",
        ")\n",
        "\n",
        "# Step 4: Merge using MATCH_KEY\n",
        "Contract_df[\"MATCH_KEY\"] = Contract_df[\"MATCH_KEY\"].astype(str)\n",
        "\n",
        "contracts_enriched = Contract_df.set_index(\"MATCH_KEY\").join(\n",
        "    bluecards_deduped[[\"# BLUE CARD\", \"CREATED DATE\", \"EVENT_DATE_CLEAN\"]],\n",
        "    how=\"left\",\n",
        "    rsuffix=\"_BLUECARD\"\n",
        ").reset_index()"
      ],
      "outputs": [],
      "execution_count": 8,
      "metadata": {
        "gather": {
          "logged": 1745810844241
        }
      }
    },
    {
      "cell_type": "code",
      "source": [
        "contracts_enriched['OVERDUE_DEPOSIT_FLAG'] = contracts_enriched['OVERDUE DEPOSIT'].astype(str).str.lower().eq('yes').astype(int) #Indicates delay in financial commitment\n",
        "contracts_enriched['OVERDUE_SIGNATURE_FLAG'] = contracts_enriched['OVERDUE SIGNATURE'].astype(str).str.lower().eq('yes').astype(int) #Indicates late formalization of contract\n",
        "\n",
        "#Surface-level contract lifecycle risk - Flags unstable or failing contracts without needing numeric logic\n",
        "status_keywords = ['cancel', 'overdue', 'pending', 'hold']\n",
        "contracts_enriched['STATUS_RISK_FLAG'] = contracts_enriched['STATUS'].astype(str).str.lower().apply(\n",
        "    lambda x: int(any(k in x for k in status_keywords))\n",
        ")\n",
        "\n",
        "#Financial reconciliation check - Large positive/negative discrepancies may \n",
        "#signal pricing issues, miscontracts, or hidden costs\n",
        "contracts_enriched[\"FINANCIAL_DELTA\"] = (\n",
        "    contracts_enriched[\"$GROSS\"] - \n",
        "    contracts_enriched[\"ARTIST NET_CLEANED\"] - \n",
        "    contracts_enriched[\"$ECE TOTAL COMMISSION\"]\n",
        ")\n",
        "\n",
        "#Days between contract issuance and event - Measures lead time for planning\n",
        "contracts_enriched[\"ISSUE_TO_EVENT_DAYS\"] = (\n",
        "    pd.to_datetime(contracts_enriched[\"EVENT_DATE_CLEAN\"], errors=\"coerce\") -\n",
        "    pd.to_datetime(contracts_enriched[\"ISSUE DATE\"], errors=\"coerce\")\n",
        ").dt.days\n",
        "\n",
        "#First-time presenters carry higher uncertainty — no track record\n",
        "presenter_counts = contracts_enriched[\"PRESENTER_CLEAN\"].value_counts()\n",
        "contracts_enriched[\"IS_FIRST_TIME_PRESENTER\"] = contracts_enriched[\"PRESENTER_CLEAN\"].map(presenter_counts) == 1\n",
        "\n",
        "#Detects abnormal financial behavior - Statistically significant financial mismatches; high potential for error or fraud\n",
        "std_delta = contracts_enriched[\"FINANCIAL_DELTA\"].std()\n",
        "contracts_enriched[\"FINANCIAL_ANOMALY_FLAG\"] = (contracts_enriched[\"FINANCIAL_DELTA\"].abs() > 3 * std_delta).astype(int)\n",
        "\n",
        "\n",
        "contracts_enriched['RISK_SCORE'] = (\n",
        "    (contracts_enriched['$DEPOSIT DUE AMOUNT'] < 500).astype(int) * 3 +\n",
        "    contracts_enriched['IS_FIRST_TIME_PRESENTER'].astype(int) * 2 +\n",
        "    (contracts_enriched['ISSUE_TO_EVENT_DAYS'] < 30).astype(int) * 4 +\n",
        "    contracts_enriched['OVERDUE_DEPOSIT_FLAG'] * 2 +\n",
        "    contracts_enriched['OVERDUE_SIGNATURE_FLAG'] * 1 +\n",
        "    contracts_enriched['FINANCIAL_ANOMALY_FLAG'] * 3 +\n",
        "    contracts_enriched['STATUS_RISK_FLAG'] * 2\n",
        ")\n",
        "contracts_enriched.head()"
      ],
      "outputs": [
        {
          "output_type": "execute_result",
          "execution_count": 9,
          "data": {
            "text/plain": "                                           MATCH_KEY  CONTRACT #  \\\n0  \"project halo\" party_project halo site_1999-05-15      251192   \n1  (cancelled !!!!!!)  russell private party_firs...      250485   \n2             (the) shark club_shark club_1999-06-11      603075   \n3  , executive director of public interest proj_h...      278693   \n4          ,ellow reception_officers club_1995-10-14      600867   \n\n                                      PRESENTER             FIRST ARTIST  \\\n0                          \"PROJECT HALO\" PARTY               DADDY BLUE   \n1     (CANCELLED !!!!!!)  RUSSELL PRIVATE PARTY           THE MAYBERRIES   \n2                              (THE) SHARK CLUB  THE COCONUT GROOVE BAND   \n3  , Executive Director of Public Interest Proj                   GASTON   \n4                              ,ELLOW RECEPTION                  RIPTIDE   \n\n  FIRST EVENT DATE  NO. OF SHOWS           AGENT     TYPE          STATUS  \\\n0       05/15/1999           1.0  Scooter Abrams    Party       Completed   \n1       04/24/1999           1.0       Ed Duncan    Dance          Issued   \n2       06/11/1999           1.0      Doug Baker     Club       Completed   \n3       10/22/2009           1.0     Doug Daniel    Party  Fully Executed   \n4       10/14/1995           1.0      Doug Baker  Wedding       Completed   \n\n   $GROSS  $ECE TOTAL COMMISSION                             ARTIST NET  \\\n0   350.0                   50.0                  DADDY BLUE ($ 350.00)   \n1   100.0                  100.0                THE MAYBERRIES ($ 0.00)   \n2  2000.0                  400.0   THE COCONUT GROOVE BAND ($ 1,600.00)   \n3  1750.0                  350.0                    GASTON ($ 1,330.00)   \n4  1750.0                    0.0                     RIPTIDE ($ 875.00)   \n\n   ISSUE DATE OVERDUE DEPOSIT OVERDUE SIGNATURE OUT OF BALANCE UNDERWATER  \\\n0  05/04/1999            NONE              NONE           NONE         NO   \n1  03/15/1999            NONE              NONE           NONE         NO   \n2  03/23/1999            NONE              NONE           NONE         NO   \n3  08/31/2009            NONE              NONE           NONE         NO   \n4  04/21/1995            NONE              NONE           NONE         NO   \n\n  IS ARCHIVED  $DEPOSIT DUE AMOUNT           VENUE NAME  VENUE CITY/STATE  \\\n0         YES                 50.0    PROJECT HALO SITE     CHARLOTTE, NC   \n1         YES                100.0  FIRST NATIONAL BANK        SHELBY, NC   \n2         YES                400.0           SHARK CLUB   CENTREVILLE, VA   \n3          NO                875.0       HARPER'S GRILL     CHARLOTTE, NC   \n4         YES                  0.0        OFFICERS CLUB  FORT JACKSON, SC   \n\n                     CONTACT NAME     OFFICE LINE OF BUSINESS  \\\n0                      GUS THOMAS  Charlotte             Core   \n1             PATRICIA S. RUSSELL  Charlotte             Core   \n2   ERIC STEENSTRA, ERIC STEESTRA   Columbia             Core   \n3                   GINGER DONNAN  Charlotte             Core   \n4              MRS. VICTOR MELLOW   Columbia             Core   \n\n   ARTIST NET_CLEANED  EVENT DATE YEAR  \\\n0               350.0           1999.0   \n1                 0.0           1999.0   \n2              1600.0           1999.0   \n3              1330.0           2009.0   \n4               875.0           1995.0   \n\n                                PRESENTER_CLEAN          VENUE_CLEAN  \\\n0                          \"project halo\" party    project halo site   \n1     (cancelled !!!!!!)  russell private party  first national bank   \n2                              (the) shark club           shark club   \n3  , executive director of public interest proj       harper's grill   \n4                              ,ellow reception        officers club   \n\n      AGENT_CLEAN EVENT_DATE_CLEAN  # BLUE CARD CREATED DATE  \\\n0  scooter abrams       1999-05-15          NaN          NaT   \n1       ed duncan       1999-04-24          NaN          NaT   \n2      doug baker       1999-06-11          NaN          NaT   \n3     doug daniel       2009-10-22          NaN          NaT   \n4      doug baker       1995-10-14          NaN          NaT   \n\n  EVENT_DATE_CLEAN_BLUECARD  OVERDUE_DEPOSIT_FLAG  OVERDUE_SIGNATURE_FLAG  \\\n0                       NaT                     0                       0   \n1                       NaT                     0                       0   \n2                       NaT                     0                       0   \n3                       NaT                     0                       0   \n4                       NaT                     0                       0   \n\n   STATUS_RISK_FLAG  FINANCIAL_DELTA  ISSUE_TO_EVENT_DAYS  \\\n0                 0            -50.0                 11.0   \n1                 0              0.0                 40.0   \n2                 0              0.0                 80.0   \n3                 0             70.0                 52.0   \n4                 0            875.0                176.0   \n\n   IS_FIRST_TIME_PRESENTER  FINANCIAL_ANOMALY_FLAG  RISK_SCORE  \n0                     True                       0           9  \n1                     True                       0           5  \n2                     True                       0           5  \n3                     True                       0           2  \n4                     True                       0           5  ",
            "text/html": "<div>\n<style scoped>\n    .dataframe tbody tr th:only-of-type {\n        vertical-align: middle;\n    }\n\n    .dataframe tbody tr th {\n        vertical-align: top;\n    }\n\n    .dataframe thead th {\n        text-align: right;\n    }\n</style>\n<table border=\"1\" class=\"dataframe\">\n  <thead>\n    <tr style=\"text-align: right;\">\n      <th></th>\n      <th>MATCH_KEY</th>\n      <th>CONTRACT #</th>\n      <th>PRESENTER</th>\n      <th>FIRST ARTIST</th>\n      <th>FIRST EVENT DATE</th>\n      <th>NO. OF SHOWS</th>\n      <th>AGENT</th>\n      <th>TYPE</th>\n      <th>STATUS</th>\n      <th>$GROSS</th>\n      <th>$ECE TOTAL COMMISSION</th>\n      <th>ARTIST NET</th>\n      <th>ISSUE DATE</th>\n      <th>OVERDUE DEPOSIT</th>\n      <th>OVERDUE SIGNATURE</th>\n      <th>OUT OF BALANCE</th>\n      <th>UNDERWATER</th>\n      <th>IS ARCHIVED</th>\n      <th>$DEPOSIT DUE AMOUNT</th>\n      <th>VENUE NAME</th>\n      <th>VENUE CITY/STATE</th>\n      <th>CONTACT NAME</th>\n      <th>OFFICE</th>\n      <th>LINE OF BUSINESS</th>\n      <th>ARTIST NET_CLEANED</th>\n      <th>EVENT DATE YEAR</th>\n      <th>PRESENTER_CLEAN</th>\n      <th>VENUE_CLEAN</th>\n      <th>AGENT_CLEAN</th>\n      <th>EVENT_DATE_CLEAN</th>\n      <th># BLUE CARD</th>\n      <th>CREATED DATE</th>\n      <th>EVENT_DATE_CLEAN_BLUECARD</th>\n      <th>OVERDUE_DEPOSIT_FLAG</th>\n      <th>OVERDUE_SIGNATURE_FLAG</th>\n      <th>STATUS_RISK_FLAG</th>\n      <th>FINANCIAL_DELTA</th>\n      <th>ISSUE_TO_EVENT_DAYS</th>\n      <th>IS_FIRST_TIME_PRESENTER</th>\n      <th>FINANCIAL_ANOMALY_FLAG</th>\n      <th>RISK_SCORE</th>\n    </tr>\n  </thead>\n  <tbody>\n    <tr>\n      <th>0</th>\n      <td>\"project halo\" party_project halo site_1999-05-15</td>\n      <td>251192</td>\n      <td>\"PROJECT HALO\" PARTY</td>\n      <td>DADDY BLUE</td>\n      <td>05/15/1999</td>\n      <td>1.0</td>\n      <td>Scooter Abrams</td>\n      <td>Party</td>\n      <td>Completed</td>\n      <td>350.0</td>\n      <td>50.0</td>\n      <td>DADDY BLUE ($ 350.00)</td>\n      <td>05/04/1999</td>\n      <td>NONE</td>\n      <td>NONE</td>\n      <td>NONE</td>\n      <td>NO</td>\n      <td>YES</td>\n      <td>50.0</td>\n      <td>PROJECT HALO SITE</td>\n      <td>CHARLOTTE, NC</td>\n      <td>GUS THOMAS</td>\n      <td>Charlotte</td>\n      <td>Core</td>\n      <td>350.0</td>\n      <td>1999.0</td>\n      <td>\"project halo\" party</td>\n      <td>project halo site</td>\n      <td>scooter abrams</td>\n      <td>1999-05-15</td>\n      <td>NaN</td>\n      <td>NaT</td>\n      <td>NaT</td>\n      <td>0</td>\n      <td>0</td>\n      <td>0</td>\n      <td>-50.0</td>\n      <td>11.0</td>\n      <td>True</td>\n      <td>0</td>\n      <td>9</td>\n    </tr>\n    <tr>\n      <th>1</th>\n      <td>(cancelled !!!!!!)  russell private party_firs...</td>\n      <td>250485</td>\n      <td>(CANCELLED !!!!!!)  RUSSELL PRIVATE PARTY</td>\n      <td>THE MAYBERRIES</td>\n      <td>04/24/1999</td>\n      <td>1.0</td>\n      <td>Ed Duncan</td>\n      <td>Dance</td>\n      <td>Issued</td>\n      <td>100.0</td>\n      <td>100.0</td>\n      <td>THE MAYBERRIES ($ 0.00)</td>\n      <td>03/15/1999</td>\n      <td>NONE</td>\n      <td>NONE</td>\n      <td>NONE</td>\n      <td>NO</td>\n      <td>YES</td>\n      <td>100.0</td>\n      <td>FIRST NATIONAL BANK</td>\n      <td>SHELBY, NC</td>\n      <td>PATRICIA S. RUSSELL</td>\n      <td>Charlotte</td>\n      <td>Core</td>\n      <td>0.0</td>\n      <td>1999.0</td>\n      <td>(cancelled !!!!!!)  russell private party</td>\n      <td>first national bank</td>\n      <td>ed duncan</td>\n      <td>1999-04-24</td>\n      <td>NaN</td>\n      <td>NaT</td>\n      <td>NaT</td>\n      <td>0</td>\n      <td>0</td>\n      <td>0</td>\n      <td>0.0</td>\n      <td>40.0</td>\n      <td>True</td>\n      <td>0</td>\n      <td>5</td>\n    </tr>\n    <tr>\n      <th>2</th>\n      <td>(the) shark club_shark club_1999-06-11</td>\n      <td>603075</td>\n      <td>(THE) SHARK CLUB</td>\n      <td>THE COCONUT GROOVE BAND</td>\n      <td>06/11/1999</td>\n      <td>1.0</td>\n      <td>Doug Baker</td>\n      <td>Club</td>\n      <td>Completed</td>\n      <td>2000.0</td>\n      <td>400.0</td>\n      <td>THE COCONUT GROOVE BAND ($ 1,600.00)</td>\n      <td>03/23/1999</td>\n      <td>NONE</td>\n      <td>NONE</td>\n      <td>NONE</td>\n      <td>NO</td>\n      <td>YES</td>\n      <td>400.0</td>\n      <td>SHARK CLUB</td>\n      <td>CENTREVILLE, VA</td>\n      <td>ERIC STEENSTRA, ERIC STEESTRA</td>\n      <td>Columbia</td>\n      <td>Core</td>\n      <td>1600.0</td>\n      <td>1999.0</td>\n      <td>(the) shark club</td>\n      <td>shark club</td>\n      <td>doug baker</td>\n      <td>1999-06-11</td>\n      <td>NaN</td>\n      <td>NaT</td>\n      <td>NaT</td>\n      <td>0</td>\n      <td>0</td>\n      <td>0</td>\n      <td>0.0</td>\n      <td>80.0</td>\n      <td>True</td>\n      <td>0</td>\n      <td>5</td>\n    </tr>\n    <tr>\n      <th>3</th>\n      <td>, executive director of public interest proj_h...</td>\n      <td>278693</td>\n      <td>, Executive Director of Public Interest Proj</td>\n      <td>GASTON</td>\n      <td>10/22/2009</td>\n      <td>1.0</td>\n      <td>Doug Daniel</td>\n      <td>Party</td>\n      <td>Fully Executed</td>\n      <td>1750.0</td>\n      <td>350.0</td>\n      <td>GASTON ($ 1,330.00)</td>\n      <td>08/31/2009</td>\n      <td>NONE</td>\n      <td>NONE</td>\n      <td>NONE</td>\n      <td>NO</td>\n      <td>NO</td>\n      <td>875.0</td>\n      <td>HARPER'S GRILL</td>\n      <td>CHARLOTTE, NC</td>\n      <td>GINGER DONNAN</td>\n      <td>Charlotte</td>\n      <td>Core</td>\n      <td>1330.0</td>\n      <td>2009.0</td>\n      <td>, executive director of public interest proj</td>\n      <td>harper's grill</td>\n      <td>doug daniel</td>\n      <td>2009-10-22</td>\n      <td>NaN</td>\n      <td>NaT</td>\n      <td>NaT</td>\n      <td>0</td>\n      <td>0</td>\n      <td>0</td>\n      <td>70.0</td>\n      <td>52.0</td>\n      <td>True</td>\n      <td>0</td>\n      <td>2</td>\n    </tr>\n    <tr>\n      <th>4</th>\n      <td>,ellow reception_officers club_1995-10-14</td>\n      <td>600867</td>\n      <td>,ELLOW RECEPTION</td>\n      <td>RIPTIDE</td>\n      <td>10/14/1995</td>\n      <td>1.0</td>\n      <td>Doug Baker</td>\n      <td>Wedding</td>\n      <td>Completed</td>\n      <td>1750.0</td>\n      <td>0.0</td>\n      <td>RIPTIDE ($ 875.00)</td>\n      <td>04/21/1995</td>\n      <td>NONE</td>\n      <td>NONE</td>\n      <td>NONE</td>\n      <td>NO</td>\n      <td>YES</td>\n      <td>0.0</td>\n      <td>OFFICERS CLUB</td>\n      <td>FORT JACKSON, SC</td>\n      <td>MRS. VICTOR MELLOW</td>\n      <td>Columbia</td>\n      <td>Core</td>\n      <td>875.0</td>\n      <td>1995.0</td>\n      <td>,ellow reception</td>\n      <td>officers club</td>\n      <td>doug baker</td>\n      <td>1995-10-14</td>\n      <td>NaN</td>\n      <td>NaT</td>\n      <td>NaT</td>\n      <td>0</td>\n      <td>0</td>\n      <td>0</td>\n      <td>875.0</td>\n      <td>176.0</td>\n      <td>True</td>\n      <td>0</td>\n      <td>5</td>\n    </tr>\n  </tbody>\n</table>\n</div>"
          },
          "metadata": {}
        }
      ],
      "execution_count": 9,
      "metadata": {
        "gather": {
          "logged": 1745810848721
        }
      }
    },
    {
      "cell_type": "code",
      "source": [
        "# Drop missing values\n",
        "risk_scores = contracts_enriched[\"RISK_SCORE\"].dropna()\n",
        "\n",
        "# Create a histogram\n",
        "plt.figure(figsize=(10, 6))\n",
        "plt.hist(risk_scores, bins = 17, edgecolor = 'black', alpha = 0.75)\n",
        "plt.title(\"Distribution of Risk Scores\")\n",
        "plt.xlabel(\"Risk Score\")\n",
        "plt.ylabel(\"Number of Contracts\")\n",
        "plt.grid(True)\n",
        "plt.tight_layout()\n",
        "plt.show()"
      ],
      "outputs": [
        {
          "output_type": "display_data",
          "data": {
            "text/plain": "<Figure size 1000x600 with 1 Axes>",
            "image/png": "[encoded data removed]"
          },
          "metadata": {}
        }
      ],
      "execution_count": 11,
      "metadata": {
        "gather": {
          "logged": 1745810866467
        }
      }
    },
    {
      "cell_type": "code",
      "source": [
        "contracts_enriched.isna().sum()"
      ],
      "outputs": [
        {
          "output_type": "execute_result",
          "execution_count": 10,
          "data": {
            "text/plain": "MATCH_KEY                         0\nCONTRACT #                        0\nPRESENTER                         0\nFIRST ARTIST                      0\nFIRST EVENT DATE                  0\nNO. OF SHOWS                      0\nAGENT                             0\nTYPE                              0\nSTATUS                            0\n$GROSS                            0\n$ECE TOTAL COMMISSION             0\nARTIST NET                        0\nISSUE DATE                        0\nOVERDUE DEPOSIT                   0\nOVERDUE SIGNATURE                 0\nOUT OF BALANCE                    0\nUNDERWATER                        0\nIS ARCHIVED                       0\n$DEPOSIT DUE AMOUNT               0\nVENUE NAME                        0\nVENUE CITY/STATE                  0\nCONTACT NAME                      0\nOFFICE                            0\nLINE OF BUSINESS                  0\nARTIST NET_CLEANED                0\nEVENT DATE YEAR                   1\nPRESENTER_CLEAN                   0\nVENUE_CLEAN                       0\nAGENT_CLEAN                       0\nEVENT_DATE_CLEAN                  1\n# BLUE CARD                  296747\nCREATED DATE                 296747\nEVENT_DATE_CLEAN_BLUECARD    296747\nISSUE_TO_EVENT_DAYS            4366\nIS_FIRST_TIME_PRESENTER           0\nFINANCIAL_DELTA                   0\nOVERDUE_DEPOSIT_FLAG              0\nOVERDUE_SIGNATURE_FLAG            0\nSTATUS_RISK_FLAG                  0\nFINANCIAL_ANOMALY_FLAG            0\nRISK_SCORE                        0\ndtype: int64"
          },
          "metadata": {}
        }
      ],
      "execution_count": 10,
      "metadata": {
        "gather": {
          "logged": 1745185915470
        }
      }
    },
    {
      "cell_type": "code",
      "source": [
        "contracts_enriched.drop(columns = ['# BLUE CARD', 'CREATED DATE',\n",
        "                        'EVENT_DATE_CLEAN_BLUECARD'], inplace = True)\n",
        "\n",
        "contracts_enriched.dropna(subset = ['ISSUE_TO_EVENT_DAYS'], inplace = True)\n",
        "\n",
        "contracts_enriched.isna().sum()"
      ],
      "outputs": [
        {
          "output_type": "execute_result",
          "execution_count": 12,
          "data": {
            "text/plain": "MATCH_KEY                  0\nCONTRACT #                 0\nPRESENTER                  0\nFIRST ARTIST               0\nFIRST EVENT DATE           0\nNO. OF SHOWS               0\nAGENT                      0\nTYPE                       0\nSTATUS                     0\n$GROSS                     0\n$ECE TOTAL COMMISSION      0\nARTIST NET                 0\nISSUE DATE                 0\nOVERDUE DEPOSIT            0\nOVERDUE SIGNATURE          0\nOUT OF BALANCE             0\nUNDERWATER                 0\nIS ARCHIVED                0\n$DEPOSIT DUE AMOUNT        0\nVENUE NAME                 0\nVENUE CITY/STATE           0\nCONTACT NAME               0\nOFFICE                     0\nLINE OF BUSINESS           0\nARTIST NET_CLEANED         0\nEVENT DATE YEAR            0\nPRESENTER_CLEAN            0\nVENUE_CLEAN                0\nAGENT_CLEAN                0\nEVENT_DATE_CLEAN           0\nOVERDUE_DEPOSIT_FLAG       0\nOVERDUE_SIGNATURE_FLAG     0\nSTATUS_RISK_FLAG           0\nFINANCIAL_DELTA            0\nISSUE_TO_EVENT_DAYS        0\nIS_FIRST_TIME_PRESENTER    0\nFINANCIAL_ANOMALY_FLAG     0\nRISK_SCORE                 0\ndtype: int64"
          },
          "metadata": {}
        }
      ],
      "execution_count": 12,
      "metadata": {
        "gather": {
          "logged": 1745810873144
        }
      }
    },
    {
      "cell_type": "code",
      "source": [
        "features = [\n",
        "    'AGENT_CLEAN',\n",
        "    'ISSUE_TO_EVENT_DAYS', 'IS_FIRST_TIME_PRESENTER', 'FINANCIAL_DELTA',\n",
        "    'STATUS_RISK_FLAG'\n",
        "]\n",
        "\n",
        "X = contracts_enriched[features]\n",
        "\n",
        "label_encoders = {}\n",
        "for col in ['AGENT_CLEAN']:\n",
        "    le = LabelEncoder()\n",
        "    X[col] = le.fit_transform(X[col].astype(str))\n",
        "    label_encoders[col] = le\n",
        "\n",
        "y = contracts_enriched['RISK_SCORE']\n",
        "\n",
        "X_train, X_test, y_train, y_test = train_test_split(X, y, test_size=0.2, random_state = 24)\n",
        "\n",
        "'''\n",
        "model = HistGradientBoostingRegressor(random_state=24)\n",
        "\n",
        "params = {\n",
        "    \"learning_rate\": [0.05, 0.1],\n",
        "    \"max_iter\": [100, 150],\n",
        "    \"max_depth\": [4, 6, 8]\n",
        "}\n",
        "\n",
        "search = GridSearchCV(model, param_grid = params, scoring = 'r2', cv = 3)\n",
        "search.fit(X_train, y_train)\n",
        "\n",
        "print(\"Best Params:\", search.best_params_)\n",
        "'''"
      ],
      "outputs": [
        {
          "output_type": "stream",
          "name": "stderr",
          "text": "/tmp/ipykernel_3997/3545173706.py:12: SettingWithCopyWarning: \nA value is trying to be set on a copy of a slice from a DataFrame.\nTry using .loc[row_indexer,col_indexer] = value instead\n\nSee the caveats in the documentation: https://pandas.pydata.org/pandas-docs/stable/user_guide/indexing.html#returning-a-view-versus-a-copy\n  X[col] = le.fit_transform(X[col].astype(str))\n"
        },
        {
          "output_type": "execute_result",
          "execution_count": 13,
          "data": {
            "text/plain": "'\\nmodel = HistGradientBoostingRegressor(random_state=24)\\n\\nparams = {\\n    \"learning_rate\": [0.05, 0.1],\\n    \"max_iter\": [100, 150],\\n    \"max_depth\": [4, 6, 8]\\n}\\n\\nsearch = GridSearchCV(model, param_grid = params, scoring = \\'r2\\', cv = 3)\\nsearch.fit(X_train, y_train)\\n\\nprint(\"Best Params:\", search.best_params_)\\n'"
          },
          "metadata": {}
        }
      ],
      "execution_count": 13,
      "metadata": {
        "gather": {
          "logged": 1745810887597
        }
      }
    },
    {
      "cell_type": "code",
      "source": [
        "best_model = HistGradientBoostingRegressor(learning_rate = 0.1,\n",
        "                            max_depth = 8,\n",
        "                            max_iter = 150,\n",
        "                            random_state = 24)\n",
        "\n",
        "best_model.fit(X_train, y_train)\n",
        "\n",
        "# Predictions and metrics\n",
        "y_pred = best_model.predict(X_test)\n",
        "mae = mean_absolute_error(y_test, y_pred)\n",
        "rmse = mean_squared_error(y_test, y_pred, squared = False)\n",
        "r2 = r2_score(y_test, y_pred)\n",
        "\n",
        "mae, rmse, r2"
      ],
      "outputs": [
        {
          "output_type": "stream",
          "name": "stderr",
          "text": "/anaconda/envs/azureml_py310_sdkv2/lib/python3.10/site-packages/sklearn/metrics/_regression.py:492: FutureWarning: 'squared' is deprecated in version 1.4 and will be removed in 1.6. To calculate the root mean squared error, use the function'root_mean_squared_error'.\n  warnings.warn(\n"
        },
        {
          "output_type": "execute_result",
          "execution_count": 14,
          "data": {
            "text/plain": "(0.6786440807725509, 0.9698319054885294, 0.8597820545901589)"
          },
          "metadata": {}
        }
      ],
      "execution_count": 14,
      "metadata": {
        "gather": {
          "logged": 1745810892027
        }
      }
    },
    {
      "cell_type": "code",
      "source": [
        "result = permutation_importance(best_model, X, y, n_repeats = 10, random_state = 24)\n",
        "\n",
        "# Convert to Series\n",
        "importances = pd.Series(result.importances_mean, index = X.columns).sort_values(\n",
        "                                                                ascending = False)\n",
        "\n",
        "# Plot features\n",
        "top_n = 11\n",
        "plt.figure(figsize = (10, 6))\n",
        "importances.head(top_n).plot(kind = 'barh')\n",
        "plt.title(\"Top Feature Importances (Permutation Importance)\")\n",
        "plt.xlabel(\"Importance Score (Decrease in Model Performance)\")\n",
        "plt.gca().invert_yaxis()\n",
        "plt.tight_layout()\n",
        "plt.show()"
      ],
      "outputs": [
        {
          "output_type": "display_data",
          "data": {
            "text/plain": "<Figure size 1000x600 with 1 Axes>",
            "image/png": "[encoded data removed]"
          },
          "metadata": {}
        }
      ],
      "execution_count": 15,
      "metadata": {
        "gather": {
          "logged": 1745810997111
        }
      }
    },
    {
      "cell_type": "code",
      "source": [
        "import joblib\n",
        "package_to_save = {\n",
        "    'model': best_model,\n",
        "    'encoders': label_encoders\n",
        "}\n",
        "joblib.dump(package_to_save, 'risk_score_model.pkl')"
      ],
      "outputs": [
        {
          "output_type": "execute_result",
          "execution_count": 16,
          "data": {
            "text/plain": "['risk_score_model.pkl']"
          },
          "metadata": {}
        }
      ],
      "execution_count": 16,
      "metadata": {
        "gather": {
          "logged": 1745811001076
        }
      }
    },
    {
      "cell_type": "code",
      "source": [
        "package = joblib.load('risk_score_model.pkl')\n",
        "print(package.keys())"
      ],
      "outputs": [
        {
          "output_type": "stream",
          "name": "stdout",
          "text": "dict_keys(['model', 'encoders'])\n"
        }
      ],
      "execution_count": 17,
      "metadata": {
        "gather": {
          "logged": 1745811078110
        }
      }
    }
  ],
  "metadata": {
    "kernel_info": {
      "name": "python310-sdkv2"
    },
    "kernelspec": {
      "name": "python310-sdkv2",
      "language": "python",
      "display_name": "Python 3.10 - SDK v2"
    },
    "language_info": {
      "name": "python",
      "version": "3.10.14",
      "mimetype": "text/x-python",
      "codemirror_mode": {
        "name": "ipython",
        "version": 3
      },
      "pygments_lexer": "ipython3",
      "nbconvert_exporter": "python",
      "file_extension": ".py"
    },
    "microsoft": {
      "host": {
        "AzureML": {
          "notebookHasBeenCompleted": true
        }
      },
      "ms_spell_check": {
        "ms_spell_check_language": "en"
      }
    },
    "nteract": {
      "version": "nteract-front-end@1.0.0"
    }
  },
  "nbformat": 4,
  "nbformat_minor": 2
}